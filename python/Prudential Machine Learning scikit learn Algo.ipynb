{
 "cells": [
  {
   "cell_type": "code",
   "execution_count": 1,
   "metadata": {
    "collapsed": true
   },
   "outputs": [],
   "source": [
    "%matplotlib inline"
   ]
  },
  {
   "cell_type": "code",
   "execution_count": 2,
   "metadata": {
    "collapsed": false
   },
   "outputs": [],
   "source": [
    "# Imports\n",
    "\n",
    "# pandas\n",
    "import pandas as pd\n",
    "from pandas import Series,DataFrame\n",
    "\n",
    "# numpy, matplotlib, seaborn\n",
    "import numpy as np\n",
    "import matplotlib.pyplot as plt\n",
    "import seaborn as sns\n",
    "sns.set_style('whitegrid')\n",
    "\n",
    "\n",
    "# machine learning\n",
    "from sklearn.linear_model import LogisticRegression\n",
    "from sklearn.svm import SVC, LinearSVC\n",
    "from sklearn.ensemble import RandomForestClassifier\n",
    "from sklearn.neighbors import KNeighborsClassifier\n",
    "from sklearn.naive_bayes import GaussianNB\n",
    "from sklearn import cross_validation\n",
    "import xgboost as xgb"
   ]
  },
  {
   "cell_type": "code",
   "execution_count": 3,
   "metadata": {
    "collapsed": true
   },
   "outputs": [],
   "source": [
    "# get training & test csv files as a DataFrame\n",
    "train_df = pd.read_csv(\"../input/train.csv\" )\n",
    "test_df    = pd.read_csv(\"../input/test.csv\")"
   ]
  },
  {
   "cell_type": "code",
   "execution_count": 4,
   "metadata": {
    "collapsed": false
   },
   "outputs": [],
   "source": [
    "# There are some columns with non-numerical values(i.e. dtype='object'),\n",
    "# So, We will create a corresponding unique numerical value for each non-numerical value in a column of training and testing set.\n",
    "\n",
    "from sklearn import preprocessing\n",
    "\n",
    "for f in train_df.columns:\n",
    "    if train_df[f].dtype == 'object':\n",
    "        lbl = preprocessing.LabelEncoder()\n",
    "        lbl.fit(np.unique(list(train_df[f].values) + list(test_df[f].values)))\n",
    "        train_df[f] = lbl.transform(list(train_df[f].values))\n",
    "        test_df[f]       = lbl.transform(list(test_df[f].values))"
   ]
  },
  {
   "cell_type": "code",
   "execution_count": 5,
   "metadata": {
    "collapsed": true
   },
   "outputs": [],
   "source": [
    "# fill NaN values\n",
    "\n",
    "for f in train_df.columns:\n",
    "    if f == \"Response\": continue\n",
    "    if train_df[f].dtype == 'float64':\n",
    "        train_df[f].fillna(train_df[f].mean(), inplace=True)\n",
    "        test_df[f].fillna(test_df[f].mean(), inplace=True)\n",
    "    else:\n",
    "        train_df[f].fillna(train_df[f].median(), inplace=True)\n",
    "        test_df[f].fillna(test_df[f].median(), inplace=True)"
   ]
  },
  {
   "cell_type": "code",
   "execution_count": 6,
   "metadata": {
    "collapsed": false
   },
   "outputs": [],
   "source": [
    "# define training and testing sets\n",
    "# Remove Height and Weight. Rely on BMI\n",
    "\n",
    "X_train = train_df.drop([\"Response\", \"Id\", \"Ht\", \"Wt\"],axis=1)\n",
    "y_train = train_df[\"Response\"]\n",
    "X_test  = test_df.drop([\"Id\", \"Ht\", \"Wt\"],axis=1).copy()"
   ]
  },
  {
   "cell_type": "code",
   "execution_count": 7,
   "metadata": {
    "collapsed": false
   },
   "outputs": [],
   "source": [
    "# modify response values so that range of values is from 0-7 instead of 1-8\n",
    "y_train = y_train - 1"
   ]
  },
  {
   "cell_type": "code",
   "execution_count": 8,
   "metadata": {
    "collapsed": false
   },
   "outputs": [
    {
     "data": {
      "text/plain": [
       "array([ 0.00289464,  0.0278074 ,  0.00611457,  0.04515617,  0.0010061 ,\n",
       "        0.00712098,  0.00191787,  0.04416438,  0.12043759,  0.03995619,\n",
       "        0.01774767,  0.00430012,  0.0145989 ,  0.00432449,  0.03408151,\n",
       "        0.00772061,  0.0016883 ,  0.02359644,  0.00607741,  0.00217477,\n",
       "        0.01226093,  0.00263081,  0.00597789,  0.00317547,  0.00438778,\n",
       "        0.0079473 ,  0.02465674,  0.00626948,  0.00915003,  0.00513002,\n",
       "        0.0098172 ,  0.02628992,  0.02722169,  0.03239328,  0.0205749 ,\n",
       "        0.03414056,  0.03368944,  0.00452241,  0.02309526,  0.00191456,\n",
       "        0.00297715,  0.00242572,  0.00504518,  0.00800696,  0.00103137,\n",
       "        0.00085852,  0.00345132,  0.0055001 ,  0.00194139,  0.04144515,\n",
       "        0.00608449,  0.00227169,  0.00385296,  0.00233969,  0.00209251,\n",
       "        0.00467408,  0.00156756,  0.01746846,  0.00729321,  0.00606533,\n",
       "        0.00575821,  0.00123131,  0.0045585 ,  0.00758842,  0.00499533,\n",
       "        0.00118957,  0.00366426,  0.00451587,  0.00671521,  0.00020501,\n",
       "        0.00677104,  0.00344045,  0.00051499,  0.0064728 ,  0.00283886,\n",
       "        0.00886808,  0.0024555 ,  0.00075732,  0.00876842,  0.0014148 ,\n",
       "        0.00084554,  0.00103892,  0.00121829,  0.00070622,  0.00082723,\n",
       "        0.0024218 ,  0.00326168,  0.00095572,  0.00059956,  0.00074864,\n",
       "        0.01672067,  0.00120557,  0.00083694,  0.00080677,  0.00081502,\n",
       "        0.00076476,  0.00130258,  0.00225642,  0.00436254,  0.00165216,\n",
       "        0.00444707,  0.00120547,  0.00089815,  0.00123418,  0.0009923 ,\n",
       "        0.00164169,  0.00100383,  0.00155116,  0.00180827,  0.00164282,\n",
       "        0.00084383,  0.00103751,  0.004137  ,  0.00108655,  0.00094361,\n",
       "        0.00322172,  0.00089348,  0.00291216,  0.0008654 ,  0.00065854,\n",
       "        0.00110076,  0.00074594,  0.00166177,  0.00287116])"
      ]
     },
     "execution_count": 8,
     "metadata": {},
     "output_type": "execute_result"
    }
   ],
   "source": [
    "# Find the features that really matter in data set using Random Forest Classifier\n",
    "\n",
    "feat_labels = X_train.columns\n",
    "forest = RandomForestClassifier(n_estimators=1000, random_state=0, n_jobs=-1)\n",
    "forest.fit(X_train, y_train)\n",
    "importances = forest.feature_importances_\n",
    "indices = np.argsort(importances)[::-1]\n",
    "importances\n"
   ]
  },
  {
   "cell_type": "code",
   "execution_count": 9,
   "metadata": {
    "collapsed": false
   },
   "outputs": [
    {
     "name": "stdout",
     "output_type": "stream",
     "text": [
      " 1) BMI                            0.120438\n",
      " 2) Product_Info_4                 0.045156\n",
      " 3) Ins_Age                        0.044164\n",
      " 4) Medical_History_15             0.041445\n",
      " 5) Employment_Info_1              0.039956\n",
      " 6) Medical_History_1              0.034141\n",
      " 7) Employment_Info_6              0.034082\n",
      " 8) Medical_History_2              0.033689\n",
      " 9) Family_Hist_4                  0.032393\n",
      "10) Product_Info_2                 0.027807\n",
      "11) Family_Hist_3                  0.027222\n",
      "12) Family_Hist_2                  0.026290\n",
      "13) Insurance_History_5            0.024657\n",
      "14) InsuredInfo_3                  0.023596\n",
      "15) Medical_History_4              0.023095\n",
      "16) Family_Hist_5                  0.020575\n",
      "17) Employment_Info_2              0.017748\n",
      "18) Medical_History_23             0.017468\n",
      "19) Medical_Keyword_15             0.016721\n",
      "20) Employment_Info_4              0.014599\n",
      "21) InsuredInfo_6                  0.012261\n",
      "22) Family_Hist_1                  0.009817\n",
      "23) Insurance_History_8            0.009150\n",
      "24) Medical_History_41             0.008868\n",
      "25) Medical_Keyword_3              0.008768\n",
      "26) Medical_History_9              0.008007\n",
      "27) Insurance_History_4            0.007947\n",
      "28) InsuredInfo_1                  0.007721\n",
      "29) Medical_History_29             0.007588\n",
      "30) Medical_History_24             0.007293\n",
      "31) Product_Info_6                 0.007121\n",
      "32) Medical_History_36             0.006771\n",
      "33) Medical_History_34             0.006715\n",
      "34) Medical_History_39             0.006473\n",
      "35) Insurance_History_7            0.006269\n",
      "36) Product_Info_3                 0.006115\n",
      "37) Medical_History_16             0.006084\n",
      "38) InsuredInfo_4                  0.006077\n",
      "39) Medical_History_25             0.006065\n",
      "40) Insurance_History_1            0.005978\n",
      "41) Medical_History_26             0.005758\n",
      "42) Medical_History_13             0.005500\n",
      "43) Insurance_History_9            0.005130\n",
      "44) Medical_History_8              0.005045\n",
      "45) Medical_History_30             0.004995\n",
      "46) Medical_History_21             0.004674\n",
      "47) Medical_History_28             0.004559\n",
      "48) Medical_History_3              0.004522\n",
      "49) Medical_History_33             0.004516\n",
      "50) Medical_Keyword_25             0.004447\n",
      "51) Insurance_History_3            0.004388\n",
      "52) Medical_Keyword_23             0.004363\n",
      "53) Employment_Info_5              0.004324\n",
      "54) Employment_Info_3              0.004300\n",
      "55) Medical_Keyword_37             0.004137\n",
      "56) Medical_History_18             0.003853\n",
      "57) Medical_History_32             0.003664\n",
      "58) Medical_History_12             0.003451\n",
      "59) Medical_History_37             0.003440\n",
      "60) Medical_Keyword_11             0.003262\n",
      "61) Medical_Keyword_40             0.003222\n",
      "62) Insurance_History_2            0.003175\n",
      "63) Medical_History_6              0.002977\n",
      "64) Medical_Keyword_42             0.002912\n",
      "65) Product_Info_1                 0.002895\n",
      "66) Medical_Keyword_48             0.002871\n",
      "67) Medical_History_40             0.002839\n",
      "68) InsuredInfo_7                  0.002631\n",
      "69) Medical_Keyword_1              0.002456\n",
      "70) Medical_History_7              0.002426\n",
      "71) Medical_Keyword_10             0.002422\n",
      "72) Medical_History_19             0.002340\n",
      "73) Medical_History_17             0.002272\n",
      "74) Medical_Keyword_22             0.002256\n",
      "75) InsuredInfo_5                  0.002175\n",
      "76) Medical_History_20             0.002093\n",
      "77) Medical_History_14             0.001941\n",
      "78) Product_Info_7                 0.001918\n",
      "79) Medical_History_5              0.001915\n",
      "80) Medical_Keyword_33             0.001808\n",
      "81) InsuredInfo_2                  0.001688\n",
      "82) Medical_Keyword_47             0.001662\n",
      "83) Medical_Keyword_24             0.001652\n",
      "84) Medical_Keyword_34             0.001643\n",
      "85) Medical_Keyword_30             0.001642\n",
      "86) Medical_History_22             0.001568\n",
      "87) Medical_Keyword_32             0.001551\n",
      "88) Medical_Keyword_4              0.001415\n",
      "89) Medical_Keyword_21             0.001303\n",
      "90) Medical_Keyword_28             0.001234\n",
      "91) Medical_History_27             0.001231\n",
      "92) Medical_Keyword_7              0.001218\n",
      "93) Medical_Keyword_16             0.001206\n",
      "94) Medical_Keyword_26             0.001205\n",
      "95) Medical_History_31             0.001190\n",
      "96) Medical_Keyword_45             0.001101\n",
      "97) Medical_Keyword_38             0.001087\n",
      "98) Medical_Keyword_6              0.001039\n",
      "99) Medical_Keyword_36             0.001038\n",
      "100) Medical_History_10             0.001031\n",
      "101) Product_Info_5                 0.001006\n",
      "102) Medical_Keyword_31             0.001004\n",
      "103) Medical_Keyword_29             0.000992\n",
      "104) Medical_Keyword_12             0.000956\n",
      "105) Medical_Keyword_39             0.000944\n",
      "106) Medical_Keyword_27             0.000898\n",
      "107) Medical_Keyword_41             0.000893\n",
      "108) Medical_Keyword_43             0.000865\n",
      "109) Medical_History_11             0.000859\n",
      "110) Medical_Keyword_5              0.000846\n",
      "111) Medical_Keyword_35             0.000844\n",
      "112) Medical_Keyword_17             0.000837\n",
      "113) Medical_Keyword_9              0.000827\n",
      "114) Medical_Keyword_19             0.000815\n",
      "115) Medical_Keyword_18             0.000807\n",
      "116) Medical_Keyword_20             0.000765\n",
      "117) Medical_Keyword_2              0.000757\n",
      "118) Medical_Keyword_14             0.000749\n",
      "119) Medical_Keyword_46             0.000746\n",
      "120) Medical_Keyword_8              0.000706\n",
      "121) Medical_Keyword_44             0.000659\n",
      "122) Medical_Keyword_13             0.000600\n",
      "123) Medical_History_38             0.000515\n",
      "124) Medical_History_35             0.000205\n"
     ]
    }
   ],
   "source": [
    "# identify the list of top features\n",
    "\n",
    "for f in range(X_train.shape[1]):\n",
    "    print(\"%2d) %-*s %f\" % (f + 1, 30, feat_labels[indices[f]], importances[indices[f]]))"
   ]
  },
  {
   "cell_type": "code",
   "execution_count": 10,
   "metadata": {
    "collapsed": false
   },
   "outputs": [
    {
     "name": "stderr",
     "output_type": "stream",
     "text": [
      "/home/tom/anaconda2/lib/python2.7/site-packages/sklearn/utils/__init__.py:93: DeprecationWarning: Function transform is deprecated; Support to use estimators as feature selectors will be removed in version 0.19. Use SelectFromModel instead.\n",
      "  warnings.warn(msg, category=DeprecationWarning)\n",
      "/home/tom/anaconda2/lib/python2.7/site-packages/sklearn/utils/__init__.py:93: DeprecationWarning: Function transform is deprecated; Support to use estimators as feature selectors will be removed in version 0.19. Use SelectFromModel instead.\n",
      "  warnings.warn(msg, category=DeprecationWarning)\n"
     ]
    }
   ],
   "source": [
    "# Use only top features\n",
    "X_train = forest.transform(X_train, threshold=.008)\n",
    "X_test = forest.transform(X_test, threshold=.008)\n"
   ]
  },
  {
   "cell_type": "code",
   "execution_count": 11,
   "metadata": {
    "collapsed": false
   },
   "outputs": [],
   "source": [
    "# Define different models\n",
    "forest = RandomForestClassifier(n_estimators=1000, random_state=0, n_jobs=-1)\n",
    "\n",
    "lr = LogisticRegression(C=1.0, random_state=0)\n",
    "\n",
    "knn = KNeighborsClassifier(n_neighbors=15, p=2, metric='minkowski')\n",
    "\n",
    "gnb = GaussianNB()\n",
    "\n",
    "lsvc = LinearSVC()\n",
    "\n",
    "lsvm = SVC(kernel='linear')"
   ]
  },
  {
   "cell_type": "code",
   "execution_count": 12,
   "metadata": {
    "collapsed": false
   },
   "outputs": [
    {
     "name": "stderr",
     "output_type": "stream",
     "text": [
      "/home/tom/anaconda2/lib/python2.7/site-packages/matplotlib/collections.py:590: FutureWarning: elementwise comparison failed; returning scalar instead, but in the future will perform elementwise comparison\n",
      "  if self._edgecolors == str('face'):\n"
     ]
    },
    {
     "data": {
      "image/png": "[encoded data removed]",
      "text/plain": [
       "<matplotlib.figure.Figure at 0x7fa73c1488d0>"
      ]
     },
     "metadata": {},
     "output_type": "display_data"
    }
   ],
   "source": [
    "# Perform pre-processing to determine optimal data set size and tune model parameters\n",
    "\n",
    "\n",
    "# Determine optimal training data set size using learning curve methods\n",
    "import matplotlib.pyplot as plt\n",
    "from sklearn.learning_curve import learning_curve\n",
    "\n",
    "    \n",
    "train_sizes, train_scores, test_scores = learning_curve(estimator=knn, X=X_train, y=y_train, \n",
    "                                                        train_sizes=np.linspace(0.1, 1.0, 5), cv=5)\n",
    "\n",
    "train_mean = np.mean(train_scores, axis=1)\n",
    "train_std = np.std(train_scores, axis=1)\n",
    "test_mean = np.mean(test_scores, axis=1)\n",
    "test_std = np.std(test_scores, axis=1)\n",
    "plt.plot(train_sizes, train_mean, color='blue', marker='o', markersize=5, label='training accuracy')\n",
    "plt.fill_between(train_sizes, train_mean + train_std, train_mean - train_std, alpha=0.15, color='blue')\n",
    "plt.plot(train_sizes, test_mean, color='green', linestyle='--', marker='s', markersize=5, label='validation accuracy')\n",
    "plt.fill_between(train_sizes, test_mean + test_std, test_mean - test_std, alpha=0.15, color='green')\n",
    "plt.grid()\n",
    "plt.xlabel('Number of training samples')\n",
    "plt.ylabel('Accuracy')\n",
    "plt.legend(loc='lower right')\n",
    "plt.ylim([0.1, 1.2])\n",
    "plt.show()"
   ]
  },
  {
   "cell_type": "code",
   "execution_count": 13,
   "metadata": {
    "collapsed": false
   },
   "outputs": [
    {
     "data": {
      "image/png": "[encoded data removed]",
      "text/plain": [
       "<matplotlib.figure.Figure at 0x7fa73b879bd0>"
      ]
     },
     "metadata": {},
     "output_type": "display_data"
    }
   ],
   "source": [
    "from sklearn.learning_curve import validation_curve\n",
    "\n",
    "\n",
    "param_range = [0.001, 0.01, 0.1, 1.0, 10.0, 100.0]\n",
    "\n",
    "train_scores, test_scores = validation_curve(estimator=lr, X=X_train, y=y_train, param_name='C',\n",
    "                                            param_range=param_range, cv=5)\n",
    "train_mean = np.mean(train_scores, axis=1)\n",
    "train_std = np.std(train_scores, axis=1)\n",
    "test_mean = np.mean(test_scores, axis=1)\n",
    "test_std = np.std(test_scores, axis=1)\n",
    "plt.plot(param_range, train_mean, color='blue', marker='o', markersize=5, label='training accuracy')\n",
    "plt.fill_between(param_range, train_mean + train_std, train_mean - train_std, alpha=0.15, color='blue')\n",
    "plt.plot(param_range, test_mean, color='green', linestyle='--', marker='s', markersize=5, label='validation accuracy')\n",
    "plt.fill_between(param_range, test_mean + test_std, test_mean - test_std, alpha=0.15, color='green')\n",
    "plt.xscale('log')\n",
    "plt.grid()\n",
    "plt.xlabel('Parameter')\n",
    "plt.ylabel('Accuracy')\n",
    "plt.legend(loc='lower right')\n",
    "plt.ylim([0.4, 0.6])\n",
    "plt.show()"
   ]
  },
  {
   "cell_type": "code",
   "execution_count": 14,
   "metadata": {
    "collapsed": false
   },
   "outputs": [
    {
     "data": {
      "image/png": "[encoded data removed]",
      "text/plain": [
       "<matplotlib.figure.Figure at 0x7fa74b861590>"
      ]
     },
     "metadata": {},
     "output_type": "display_data"
    }
   ],
   "source": [
    "nn_range = [10, 15, 20, 25, 30, 35]\n",
    "train_scores, test_scores = validation_curve(estimator=knn, X=X_train, y=y_train, param_name='n_neighbors',\n",
    "                                            param_range=nn_range, cv=5)\n",
    "train_mean = np.mean(train_scores, axis=1)\n",
    "train_std = np.std(train_scores, axis=1)\n",
    "test_mean = np.mean(test_scores, axis=1)\n",
    "test_std = np.std(test_scores, axis=1)\n",
    "plt.plot(nn_range, train_mean, color='blue', marker='o', markersize=5, label='training accuracy')\n",
    "plt.fill_between(nn_range, train_mean + train_std, train_mean - train_std, alpha=0.15, color='blue')\n",
    "plt.plot(nn_range, test_mean, color='green', linestyle='--', marker='s', markersize=5, label='validation accuracy')\n",
    "plt.fill_between(nn_range, test_mean + test_std, test_mean - test_std, alpha=0.15, color='green')\n",
    "\n",
    "plt.grid()\n",
    "plt.xlabel('Parameter')\n",
    "plt.ylabel('Accuracy')\n",
    "plt.legend(loc='lower right')\n",
    "plt.ylim([0.20, 0.65])\n",
    "plt.show()"
   ]
  },
  {
   "cell_type": "code",
   "execution_count": 15,
   "metadata": {
    "collapsed": false
   },
   "outputs": [
    {
     "data": {
      "image/png": "[encoded data removed]",
      "text/plain": [
       "<matplotlib.figure.Figure at 0x7fa77962a210>"
      ]
     },
     "metadata": {},
     "output_type": "display_data"
    }
   ],
   "source": [
    "ne_range = [10, 100, 1000]\n",
    "train_scores, test_scores = validation_curve(estimator=forest, X=X_train, y=y_train, param_name='n_estimators',\n",
    "                                            param_range=ne_range, cv=5)\n",
    "train_mean = np.mean(train_scores, axis=1)\n",
    "train_std = np.std(train_scores, axis=1)\n",
    "test_mean = np.mean(test_scores, axis=1)\n",
    "test_std = np.std(test_scores, axis=1)\n",
    "plt.plot(ne_range, train_mean, color='blue', marker='o', markersize=5, label='training accuracy')\n",
    "plt.fill_between(ne_range, train_mean + train_std, train_mean - train_std, alpha=0.15, color='blue')\n",
    "plt.plot(ne_range, test_mean, color='green', linestyle='--', marker='s', markersize=5, label='validation accuracy')\n",
    "plt.fill_between(ne_range, test_mean + test_std, test_mean - test_std, alpha=0.15, color='green')\n",
    "\n",
    "plt.grid()\n",
    "plt.xlabel('Parameter')\n",
    "plt.ylabel('Accuracy')\n",
    "plt.legend(loc='lower right')\n",
    "plt.ylim([0.40, 0.85])\n",
    "plt.show()"
   ]
  },
  {
   "cell_type": "code",
   "execution_count": 16,
   "metadata": {
    "collapsed": false
   },
   "outputs": [],
   "source": [
    "# in addition to the original data sets for training (train_orig)and testing (test_orig)\n",
    "# split train_orig data into training and testing sets randomly so we can obtain a practice test set with outcomes\n",
    "from sklearn.cross_validation import train_test_split\n",
    "X_train, X_test, y_train, y_test = train_test_split(X_train, y_train, test_size=0.30, random_state=0)"
   ]
  },
  {
   "cell_type": "code",
   "execution_count": 17,
   "metadata": {
    "collapsed": true
   },
   "outputs": [],
   "source": [
    "# Xgboost \n",
    "\n",
    "params = {\"objective\": \"multi:softmax\", \"num_class\": 8}\n",
    "\n",
    "T_train_xgb = xgb.DMatrix(X_train, y_train)\n",
    "X_test_xgb  = xgb.DMatrix(X_test)\n",
    "\n",
    "gbm = xgb.train(params, T_train_xgb, 20)\n",
    "y_pred = gbm.predict(X_test_xgb)"
   ]
  },
  {
   "cell_type": "code",
   "execution_count": 18,
   "metadata": {
    "collapsed": true
   },
   "outputs": [],
   "source": [
    "# change values back to range of values is from 1-8 instead of 0-7\n",
    "\n",
    "y_pred = y_pred + 1\n",
    "y_pred = y_pred.astype(int)"
   ]
  },
  {
   "cell_type": "code",
   "execution_count": 19,
   "metadata": {
    "collapsed": false
   },
   "outputs": [
    {
     "ename": "ValueError",
     "evalue": "array length 17815 does not match index length 19765",
     "output_type": "error",
     "traceback": [
      "\u001b[1;31m---------------------------------------------------------------------------\u001b[0m",
      "\u001b[1;31mValueError\u001b[0m                                Traceback (most recent call last)",
      "\u001b[1;32m<ipython-input-19-5fce7609cce6>\u001b[0m in \u001b[0;36m<module>\u001b[1;34m()\u001b[0m\n\u001b[0;32m      3\u001b[0m output = pd.DataFrame({\n\u001b[0;32m      4\u001b[0m         \u001b[1;34m\"Id\"\u001b[0m\u001b[1;33m:\u001b[0m \u001b[0mtest_df\u001b[0m\u001b[1;33m[\u001b[0m\u001b[1;34m\"Id\"\u001b[0m\u001b[1;33m]\u001b[0m\u001b[1;33m,\u001b[0m\u001b[1;33m\u001b[0m\u001b[0m\n\u001b[1;32m----> 5\u001b[1;33m         \u001b[1;34m\"Response\"\u001b[0m\u001b[1;33m:\u001b[0m \u001b[0my_pred\u001b[0m\u001b[1;33m\u001b[0m\u001b[0m\n\u001b[0m\u001b[0;32m      6\u001b[0m     })\n\u001b[0;32m      7\u001b[0m \u001b[0moutput\u001b[0m\u001b[1;33m.\u001b[0m\u001b[0mto_csv\u001b[0m\u001b[1;33m(\u001b[0m\u001b[1;34m\"../input/output.csv\"\u001b[0m\u001b[1;33m,\u001b[0m \u001b[0mindex\u001b[0m\u001b[1;33m=\u001b[0m\u001b[0mFalse\u001b[0m\u001b[1;33m)\u001b[0m\u001b[1;33m\u001b[0m\u001b[0m\n",
      "\u001b[1;32m/home/tom/anaconda2/lib/python2.7/site-packages/pandas/core/frame.pyc\u001b[0m in \u001b[0;36m__init__\u001b[1;34m(self, data, index, columns, dtype, copy)\u001b[0m\n\u001b[0;32m    212\u001b[0m                                  dtype=dtype, copy=copy)\n\u001b[0;32m    213\u001b[0m         \u001b[1;32melif\u001b[0m \u001b[0misinstance\u001b[0m\u001b[1;33m(\u001b[0m\u001b[0mdata\u001b[0m\u001b[1;33m,\u001b[0m \u001b[0mdict\u001b[0m\u001b[1;33m)\u001b[0m\u001b[1;33m:\u001b[0m\u001b[1;33m\u001b[0m\u001b[0m\n\u001b[1;32m--> 214\u001b[1;33m             \u001b[0mmgr\u001b[0m \u001b[1;33m=\u001b[0m \u001b[0mself\u001b[0m\u001b[1;33m.\u001b[0m\u001b[0m_init_dict\u001b[0m\u001b[1;33m(\u001b[0m\u001b[0mdata\u001b[0m\u001b[1;33m,\u001b[0m \u001b[0mindex\u001b[0m\u001b[1;33m,\u001b[0m \u001b[0mcolumns\u001b[0m\u001b[1;33m,\u001b[0m \u001b[0mdtype\u001b[0m\u001b[1;33m=\u001b[0m\u001b[0mdtype\u001b[0m\u001b[1;33m)\u001b[0m\u001b[1;33m\u001b[0m\u001b[0m\n\u001b[0m\u001b[0;32m    215\u001b[0m         \u001b[1;32melif\u001b[0m \u001b[0misinstance\u001b[0m\u001b[1;33m(\u001b[0m\u001b[0mdata\u001b[0m\u001b[1;33m,\u001b[0m \u001b[0mma\u001b[0m\u001b[1;33m.\u001b[0m\u001b[0mMaskedArray\u001b[0m\u001b[1;33m)\u001b[0m\u001b[1;33m:\u001b[0m\u001b[1;33m\u001b[0m\u001b[0m\n\u001b[0;32m    216\u001b[0m             \u001b[1;32mimport\u001b[0m \u001b[0mnumpy\u001b[0m\u001b[1;33m.\u001b[0m\u001b[0mma\u001b[0m\u001b[1;33m.\u001b[0m\u001b[0mmrecords\u001b[0m \u001b[1;32mas\u001b[0m \u001b[0mmrecords\u001b[0m\u001b[1;33m\u001b[0m\u001b[0m\n",
      "\u001b[1;32m/home/tom/anaconda2/lib/python2.7/site-packages/pandas/core/frame.pyc\u001b[0m in \u001b[0;36m_init_dict\u001b[1;34m(self, data, index, columns, dtype)\u001b[0m\n\u001b[0;32m    339\u001b[0m \u001b[1;33m\u001b[0m\u001b[0m\n\u001b[0;32m    340\u001b[0m         return _arrays_to_mgr(arrays, data_names, index, columns,\n\u001b[1;32m--> 341\u001b[1;33m                               dtype=dtype)\n\u001b[0m\u001b[0;32m    342\u001b[0m \u001b[1;33m\u001b[0m\u001b[0m\n\u001b[0;32m    343\u001b[0m     def _init_ndarray(self, values, index, columns, dtype=None,\n",
      "\u001b[1;32m/home/tom/anaconda2/lib/python2.7/site-packages/pandas/core/frame.pyc\u001b[0m in \u001b[0;36m_arrays_to_mgr\u001b[1;34m(arrays, arr_names, index, columns, dtype)\u001b[0m\n\u001b[0;32m   4796\u001b[0m     \u001b[1;31m# figure out the index, if necessary\u001b[0m\u001b[1;33m\u001b[0m\u001b[1;33m\u001b[0m\u001b[0m\n\u001b[0;32m   4797\u001b[0m     \u001b[1;32mif\u001b[0m \u001b[0mindex\u001b[0m \u001b[1;32mis\u001b[0m \u001b[0mNone\u001b[0m\u001b[1;33m:\u001b[0m\u001b[1;33m\u001b[0m\u001b[0m\n\u001b[1;32m-> 4798\u001b[1;33m         \u001b[0mindex\u001b[0m \u001b[1;33m=\u001b[0m \u001b[0mextract_index\u001b[0m\u001b[1;33m(\u001b[0m\u001b[0marrays\u001b[0m\u001b[1;33m)\u001b[0m\u001b[1;33m\u001b[0m\u001b[0m\n\u001b[0m\u001b[0;32m   4799\u001b[0m     \u001b[1;32melse\u001b[0m\u001b[1;33m:\u001b[0m\u001b[1;33m\u001b[0m\u001b[0m\n\u001b[0;32m   4800\u001b[0m         \u001b[0mindex\u001b[0m \u001b[1;33m=\u001b[0m \u001b[0m_ensure_index\u001b[0m\u001b[1;33m(\u001b[0m\u001b[0mindex\u001b[0m\u001b[1;33m)\u001b[0m\u001b[1;33m\u001b[0m\u001b[0m\n",
      "\u001b[1;32m/home/tom/anaconda2/lib/python2.7/site-packages/pandas/core/frame.pyc\u001b[0m in \u001b[0;36mextract_index\u001b[1;34m(data)\u001b[0m\n\u001b[0;32m   4854\u001b[0m                     msg = ('array length %d does not match index length %d'\n\u001b[0;32m   4855\u001b[0m                            % (lengths[0], len(index)))\n\u001b[1;32m-> 4856\u001b[1;33m                     \u001b[1;32mraise\u001b[0m \u001b[0mValueError\u001b[0m\u001b[1;33m(\u001b[0m\u001b[0mmsg\u001b[0m\u001b[1;33m)\u001b[0m\u001b[1;33m\u001b[0m\u001b[0m\n\u001b[0m\u001b[0;32m   4857\u001b[0m             \u001b[1;32melse\u001b[0m\u001b[1;33m:\u001b[0m\u001b[1;33m\u001b[0m\u001b[0m\n\u001b[0;32m   4858\u001b[0m                 \u001b[0mindex\u001b[0m \u001b[1;33m=\u001b[0m \u001b[0mIndex\u001b[0m\u001b[1;33m(\u001b[0m\u001b[0mnp\u001b[0m\u001b[1;33m.\u001b[0m\u001b[0marange\u001b[0m\u001b[1;33m(\u001b[0m\u001b[0mlengths\u001b[0m\u001b[1;33m[\u001b[0m\u001b[1;36m0\u001b[0m\u001b[1;33m]\u001b[0m\u001b[1;33m)\u001b[0m\u001b[1;33m)\u001b[0m\u001b[1;33m\u001b[0m\u001b[0m\n",
      "\u001b[1;31mValueError\u001b[0m: array length 17815 does not match index length 19765"
     ]
    }
   ],
   "source": [
    "# Create submission\n",
    "\n",
    "output = pd.DataFrame({\n",
    "        \"Id\": test_df[\"Id\"],\n",
    "        \"Response\": y_pred\n",
    "    })\n",
    "output.to_csv(\"../input/output.csv\", index=False)"
   ]
  },
  {
   "cell_type": "code",
   "execution_count": null,
   "metadata": {
    "collapsed": true
   },
   "outputs": [],
   "source": []
  }
 ],
 "metadata": {
  "kernelspec": {
   "display_name": "Python 2",
   "language": "python",
   "name": "python2"
  },
  "language_info": {
   "codemirror_mode": {
    "name": "ipython",
    "version": 2
   },
   "file_extension": ".py",
   "mimetype": "text/x-python",
   "name": "python",
   "nbconvert_exporter": "python",
   "pygments_lexer": "ipython2",
   "version": "2.7.11"
  }
 },
 "nbformat": 4,
 "nbformat_minor": 0
}
